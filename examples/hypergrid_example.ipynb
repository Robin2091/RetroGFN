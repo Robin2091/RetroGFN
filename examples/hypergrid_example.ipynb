{
 "cells": [
  {
   "cell_type": "code",
   "execution_count": 8,
   "id": "1a91d0587827420b",
   "metadata": {
    "collapsed": true,
    "ExecuteTime": {
     "end_time": "2024-06-17T16:49:50.522394Z",
     "start_time": "2024-06-17T16:49:50.513735Z"
    }
   },
   "outputs": [],
   "source": [
    "from tqdm import tqdm\n",
    "\n",
    "from gflownet import HyperGridEnv, ForwardHyperGridPolicy, UniformPolicy, TrajectoryBalanceObjective, \\\n",
    "    TrajectoryBalanceOptimizer\n",
    "from gflownet.api.reward import Reward\n",
    "from gflownet import ExploratoryPolicy, HyperGridProxy, RandomSampler\n",
    "from gflownet import RewardPrioritizedReplayBuffer\n",
    "from gflownet.trainer.trainer import Trainer"
   ]
  },
  {
   "cell_type": "code",
   "execution_count": 9,
   "outputs": [],
   "source": [
    "# Define the environment and the core forward and backward policies.\n",
    "size = 16\n",
    "env = HyperGridEnv(size=size, n_dimensions=3, max_num_steps=2)\n",
    "forward_policy = ForwardHyperGridPolicy(env=env)\n",
    "backward_policy = UniformPolicy()\n",
    "\n",
    "# Define the objective that we want to optimize. Note that the reward is not needed here.\n",
    "objective = TrajectoryBalanceObjective(\n",
    "    forward_policy=forward_policy,\n",
    "    backward_policy=backward_policy,\n",
    ")\n",
    "\n",
    "# Define the reward and the underlying proxy\n",
    "proxy = HyperGridProxy(size=size)\n",
    "reward = Reward(\n",
    "    proxy=proxy,\n",
    "    reward_boosting='linear'\n",
    ")\n",
    "\n",
    "# Define the exploratory policy that will be used in the training to sample forward trajectories.\n",
    "train_forward_policy = ExploratoryPolicy(\n",
    "    first_policy=forward_policy,\n",
    "    second_policy=UniformPolicy(),\n",
    "    first_policy_weight=0.9,\n",
    ")\n",
    "\n",
    "# Define the train sampler and a replay buffer that will be used to sample trajectories for training.\n",
    "train_forward_sampler = RandomSampler(\n",
    "    policy=train_forward_policy,\n",
    "    env=env,\n",
    "    reward=reward,\n",
    ")\n"
   ],
   "metadata": {
    "collapsed": false,
    "ExecuteTime": {
     "end_time": "2024-06-17T16:49:50.530634Z",
     "start_time": "2024-06-17T16:49:50.519884Z"
    }
   },
   "id": "84922d83d2e7f619"
  },
  {
   "cell_type": "code",
   "execution_count": 10,
   "outputs": [
    {
     "name": "stderr",
     "output_type": "stream",
     "text": [
      "Loss: 1.05: 100%|██████████| 1000/1000 [00:05<00:00, 172.50it/s]\n"
     ]
    }
   ],
   "source": [
    "# You can now train the model with a simple loop\n",
    "n_iterations = 1000\n",
    "n_trajectories = 16\n",
    "device = 'cpu'\n",
    "\n",
    "train_forward_sampler.set_device(device)\n",
    "objective.set_device(device)\n",
    "\n",
    "optimizer = TrajectoryBalanceOptimizer(\n",
    "    cls_name='Adam',\n",
    "    lr=1e-3,\n",
    "    logZ_multiplier=10.0\n",
    ")\n",
    "optimizer.initialize(model=objective)\n",
    "\n",
    "for i in (pbar := tqdm(range(n_iterations), total=n_iterations)):\n",
    "    trajectories = train_forward_sampler.sample_trajectories(n_trajectories=n_trajectories)\n",
    "    objective_output = objective.compute_objective_output(trajectories=trajectories)\n",
    "    objective_output.loss.backward()\n",
    "    optimizer.step()\n",
    "    optimizer.zero_grad()\n",
    "    if i % 100 == 0:\n",
    "        pbar.set_description(f'Loss: {objective_output.loss.item():.2f}')"
   ],
   "metadata": {
    "collapsed": false,
    "ExecuteTime": {
     "end_time": "2024-06-17T16:49:56.331202Z",
     "start_time": "2024-06-17T16:49:50.527695Z"
    }
   },
   "id": "ae5eba736cc92f9a"
  },
  {
   "cell_type": "markdown",
   "source": [],
   "metadata": {
    "collapsed": false
   },
   "id": "fd2399ce4daa2a00"
  },
  {
   "cell_type": "code",
   "execution_count": 11,
   "outputs": [
    {
     "name": "stderr",
     "output_type": "stream",
     "text": [
      "Loss: 4.2197: 100%|██████████| 1000/1000 [00:21<00:00, 46.35it/s]\n"
     ]
    },
    {
     "data": {
      "text/plain": "{'loss': 1.213454246520996, 'logZ': 3.3436150550842285, 'epoch': 10}"
     },
     "execution_count": 11,
     "metadata": {},
     "output_type": "execute_result"
    }
   ],
   "source": [
    "# Or you can use the Trainer class that implements more functionalities, e.g. sampling from replay buffer.\n",
    "\n",
    "# Define the backward sampler and the replay buffer.\n",
    "backward_sampler = RandomSampler(\n",
    "    policy=backward_policy,\n",
    "    env=env.reversed(),\n",
    "    reward=reward,\n",
    ")\n",
    "replay_buffer = RewardPrioritizedReplayBuffer(\n",
    "    sampler=backward_sampler\n",
    ")\n",
    "\n",
    "# Initialize the trainer with bunch of parameters.\n",
    "trainer = Trainer(\n",
    "    run_dir='../experiments/example_run',\n",
    "    logger=None,\n",
    "    train_forward_sampler=train_forward_sampler,\n",
    "    train_replay_buffer=replay_buffer,\n",
    "    train_forward_n_trajectories=n_trajectories,\n",
    "    train_replay_n_trajectories=16,\n",
    "    n_iterations=n_iterations,\n",
    "    objective=objective,\n",
    "    optimizer=TrajectoryBalanceOptimizer(\n",
    "        cls_name='Adam',\n",
    "        lr=1e-3,\n",
    "        logZ_multiplier=10.0\n",
    "    ),\n",
    "    device=device,\n",
    ")\n",
    "\n",
    "# Train the model\n",
    "trainer.train()"
   ],
   "metadata": {
    "collapsed": false,
    "ExecuteTime": {
     "end_time": "2024-06-17T16:50:17.916020Z",
     "start_time": "2024-06-17T16:49:56.330821Z"
    }
   },
   "id": "initial_id"
  }
 ],
 "metadata": {
  "kernelspec": {
   "display_name": "Python 3",
   "language": "python",
   "name": "python3"
  },
  "language_info": {
   "codemirror_mode": {
    "name": "ipython",
    "version": 2
   },
   "file_extension": ".py",
   "mimetype": "text/x-python",
   "name": "python",
   "nbconvert_exporter": "python",
   "pygments_lexer": "ipython2",
   "version": "2.7.6"
  }
 },
 "nbformat": 4,
 "nbformat_minor": 5
}
